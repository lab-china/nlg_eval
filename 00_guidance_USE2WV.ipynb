{
  "nbformat": 4,
  "nbformat_minor": 0,
  "metadata": {
    "colab": {
      "name": "00_guidance_USE2WV.ipynb",
      "provenance": [],
      "collapsed_sections": [],
      "toc_visible": true,
      "include_colab_link": true
    },
    "kernelspec": {
      "name": "python3",
      "display_name": "Python 3"
    },
    "accelerator": "GPU"
  },
  "cells": [
    {
      "cell_type": "markdown",
      "metadata": {
        "id": "view-in-github",
        "colab_type": "text"
      },
      "source": [
        "<a href=\"https://colab.research.google.com/github/lab-china/nlg_eval/blob/master/00_guidance_USE2WV.ipynb\" target=\"_parent\"><img src=\"https://colab.research.google.com/assets/colab-badge.svg\" alt=\"Open In Colab\"/></a>"
      ]
    },
    {
      "cell_type": "markdown",
      "metadata": {
        "id": "rwINDNPb5evD"
      },
      "source": [
        "#USE2WV"
      ]
    },
    {
      "cell_type": "markdown",
      "metadata": {
        "id": "WJ5vv2vz5i0W"
      },
      "source": [
        "##driver"
      ]
    },
    {
      "cell_type": "code",
      "metadata": {
        "id": "VpubEUN454B4",
        "outputId": "2c3a818d-51bb-45bf-c6e1-7073100d6efd",
        "colab": {
          "base_uri": "https://localhost:8080/",
          "height": 34
        }
      },
      "source": [
        "from google.colab import files\n",
        "from google.colab import drive\n",
        "drive.mount('/content/mount')\n",
        "# ai.research.jp@gmail.com\n",
        "#Ctrl + M + L"
      ],
      "execution_count": 1,
      "outputs": [
        {
          "output_type": "stream",
          "text": [
            "Mounted at /content/mount\n"
          ],
          "name": "stdout"
        }
      ]
    },
    {
      "cell_type": "markdown",
      "metadata": {
        "id": "-euIXrxK5mM8"
      },
      "source": [
        "##環境構築"
      ]
    },
    {
      "cell_type": "code",
      "metadata": {
        "id": "md-lJLIQ58Cl",
        "outputId": "9487db29-eae7-401b-9095-cc62fa68cb8b",
        "colab": {
          "base_uri": "https://localhost:8080/",
          "height": 140
        }
      },
      "source": [
        "%cd /content/\n",
        "!pip install sudachipy  > /dev/null # 本体のインストール\n",
        "!pip install sudachidict_core  > /dev/null #辞書のインストール\n",
        "!apt-get -q -y install sudo file mecab libmecab-dev mecab-ipadic-utf8 git curl python-mecab > /dev/null\n",
        "!git clone --depth 1 https://github.com/neologd/mecab-ipadic-neologd.git > /dev/null \n",
        "!echo yes | mecab-ipadic-neologd/bin/install-mecab-ipadic-neologd -n > /dev/null 2>&1\n",
        "!pip install mecab-python3 > /dev/null\n",
        "!pip install unidic-lite > /dev/null\n",
        "!pip install tensorflow_text > /dev/null\n",
        "! export MECABRC=\"/etc/mecabrc\""
      ],
      "execution_count": 2,
      "outputs": [
        {
          "output_type": "stream",
          "text": [
            "/content\n",
            "Cloning into 'mecab-ipadic-neologd'...\n",
            "remote: Enumerating objects: 75, done.\u001b[K\n",
            "remote: Counting objects: 100% (75/75), done.\u001b[K\n",
            "remote: Compressing objects: 100% (74/74), done.\u001b[K\n",
            "remote: Total 75 (delta 5), reused 54 (delta 0), pack-reused 0\u001b[K\n",
            "Unpacking objects: 100% (75/75), done.\n"
          ],
          "name": "stdout"
        }
      ]
    },
    {
      "cell_type": "code",
      "metadata": {
        "id": "CjSpWA1JExOa"
      },
      "source": [
        "import MeCab  as mc\n",
        "import subprocess\n",
        "import json\n",
        "import pandas as pd\n",
        "import numpy as np\n",
        "import readline\n",
        "from gensim.models import word2vec\n",
        "import MeCab\n",
        "import re\n",
        "import warnings\n",
        "from sklearn import preprocessing\n",
        "import gensim\n",
        "import tensorflow_hub as hub\n",
        "import tensorflow_text\n",
        "cmd='echo `mecab-config --dicdir`\"/mecab-ipadic-neologd\"'\n",
        "path = (subprocess.Popen(cmd, stdout=subprocess.PIPE,shell=True).communicate()[0]).decode('utf-8')\n",
        "# meparse=mc.Tagger(\"-d {0}\".format(path))\n",
        "meparse = MeCab.Tagger(\"-Owakati -d {0}\".format(path)) \n",
        "warnings.simplefilter('ignore')\n",
        "embed = hub.load(\"https://tfhub.dev/google/universal-sentence-encoder-multilingual-large/3\")"
      ],
      "execution_count": 3,
      "outputs": []
    },
    {
      "cell_type": "markdown",
      "metadata": {
        "id": "copKaLw_vMbG"
      },
      "source": [
        "## USE vectors make"
      ]
    },
    {
      "cell_type": "code",
      "metadata": {
        "id": "JrNqZ5l8vR5g",
        "outputId": "749d9068-5903-4890-bc09-c996f596291b",
        "colab": {
          "base_uri": "https://localhost:8080/",
          "height": 72
        }
      },
      "source": [
        "import gensim\n",
        "model_w2v300 = gensim.models.KeyedVectors.load_word2vec_format('/content/mount/My Drive/00_work/fastText_w2v/model.vec', binary=False)\n"
      ],
      "execution_count": null,
      "outputs": [
        {
          "output_type": "stream",
          "text": [
            "/usr/local/lib/python3.6/dist-packages/smart_open/smart_open_lib.py:252: UserWarning: This function is deprecated, use smart_open.open instead. See the migration notes for details: https://github.com/RaRe-Technologies/smart_open/blob/master/README.rst#migrating-to-the-new-open-function\n",
            "  'See the migration notes for details: %s' % _MIGRATION_NOTES_URL\n"
          ],
          "name": "stderr"
        }
      ]
    },
    {
      "cell_type": "code",
      "metadata": {
        "id": "fDjIX6Tmvjhf",
        "outputId": "7ecb6368-97f6-41b3-cd58-44dd2214a569",
        "colab": {
          "base_uri": "https://localhost:8080/",
          "height": 72
        }
      },
      "source": [
        "words=model_w2v300.wv.vocab\n",
        "wordslst=[]\n",
        "for i, w in enumerate(words):\n",
        "  wordslst.append(w)\n"
      ],
      "execution_count": null,
      "outputs": [
        {
          "output_type": "stream",
          "text": [
            "/usr/local/lib/python3.6/dist-packages/ipykernel_launcher.py:1: DeprecationWarning: Call to deprecated `wv` (Attribute will be removed in 4.0.0, use self instead).\n",
            "  \"\"\"Entry point for launching an IPython kernel.\n"
          ],
          "name": "stderr"
        }
      ]
    },
    {
      "cell_type": "code",
      "metadata": {
        "id": "c2SbyINS1pvb"
      },
      "source": [
        "import numpy as np\n",
        "cnt_all=len(wordslst)\n",
        "d=3000\n",
        "print(cnt_all)\n",
        "cnt=int(cnt_all/d)\n",
        "if cnt_all%d>0:\n",
        "  cnt=cnt+1\n",
        "fn='/content/use_vec.txt'\n",
        "with open(fn, \"w\", encoding=\"utf-8\") as w:\n",
        "    for i in range(cnt):\n",
        "       print(i,cnt)\n",
        "       wlst=wordslst[i*d:(i+1)*d]\n",
        "       wlst_exp=np.expand_dims(wlst,axis=1)\n",
        "       vector=embed(wlst)\n",
        "       vector=np.round(vector,6)\n",
        "       str_o=np.concatenate([wlst_exp,vector],axis=1)\n",
        "       for stri in str_o:\n",
        "        str_dt=' '.join(stri) + '\\n'\n",
        "        w.write(str_dt)\n",
        "w.close()"
      ],
      "execution_count": null,
      "outputs": []
    },
    {
      "cell_type": "code",
      "metadata": {
        "id": "NUtK4rxXzjy-"
      },
      "source": [
        "import pandas as pd\n",
        "import numpy as np\n",
        "\n",
        "from gensim.models import KeyedVectors\n",
        "\n",
        "fn='/content/use_vec.txt'\n",
        "fnout='/content/use_vec.model'\n",
        "# 単語ラベルをインデックスにしてDataFrameで読み込む\n",
        "# vectors = pd.read_csv(fn, delimiter=' ', index_col=0, header=None)\n",
        "\n",
        "with open(fn, 'r') as original, open(fnout, 'w') as transformed:\n",
        "    vocab_count = 335476 #len(words)  # 単語数\n",
        "    size = 512  # 次元数\n",
        "    transformed.write(f'{vocab_count} {size}\\n')\n",
        "    transformed.write(original.read())"
      ],
      "execution_count": null,
      "outputs": []
    },
    {
      "cell_type": "code",
      "metadata": {
        "id": "APlxsoNw8yLn"
      },
      "source": [
        "import gensim\n",
        "model = gensim.models.KeyedVectors.load_word2vec_format(fnout, binary=False)\n",
        "model.save_word2vec_format(fnout+'.bin', binary=True)"
      ],
      "execution_count": null,
      "outputs": []
    },
    {
      "cell_type": "markdown",
      "metadata": {
        "id": "NkeHPI7e74aN"
      },
      "source": [
        ""
      ]
    },
    {
      "cell_type": "code",
      "metadata": {
        "id": "twUfxf6O751G"
      },
      "source": [
        "##https://qiita.com/Hironsan/items/8f7d35f0a36e0f99752c\n",
        "pm='/content/mount/My Drive/00_work/w2v_ja/ja.bin'\n",
        "%cd /content/mount/My Drive/00_work/w2v_ja/\n",
        "import gensim\n",
        "# model = gensim.models.KeyedVectors.load_word2vec_format('/content/mount/My Drive/00_work/w2v_ja/ja.bin', binary=True)\n",
        "model = gensim.models.KeyedVectors.load_word2vec_format('ja.bin', binary=True)\n",
        "# model = gensim.models.KeyedVectors.load('/content/mount/My Drive/00_work/fastText_w2v/model.vec')\n",
        "# model_w2v300 = gensim.models.KeyedVectors.load_word2vec_format('/content/mount/My Drive/00_work/fastText_w2v/model.vec', binary=False)\n"
      ],
      "execution_count": null,
      "outputs": []
    },
    {
      "cell_type": "code",
      "metadata": {
        "id": "eZwxTCvUG_o0"
      },
      "source": [
        "model = gensim.models.Word2Vec.load('ja.bin')"
      ],
      "execution_count": null,
      "outputs": []
    },
    {
      "cell_type": "code",
      "metadata": {
        "id": "9vYctPKNTtJJ"
      },
      "source": [
        "!wget https://drive.google.com/open?id=0B0ZXk88koS2KMzRjbnE4ZHJmcWM"
      ],
      "execution_count": null,
      "outputs": []
    },
    {
      "cell_type": "markdown",
      "metadata": {
        "id": "QfvkvmY05ogp"
      },
      "source": [
        "##白ヤギコーポレーションのモデル OK"
      ]
    },
    {
      "cell_type": "code",
      "metadata": {
        "id": "fCe-KwNVOEBi"
      },
      "source": [
        "%cd /content/"
      ],
      "execution_count": null,
      "outputs": []
    },
    {
      "cell_type": "code",
      "metadata": {
        "id": "L6Lk7oFy6D7b"
      },
      "source": [
        "# %cd /content/mount/My Drive/00_work\n",
        "!wget http://public.shiroyagi.s3.amazonaws.com/latest-ja-word2vec-gensim-model.zip\n",
        "!unzip latest-ja-word2vec-gensim-model.zip"
      ],
      "execution_count": null,
      "outputs": []
    },
    {
      "cell_type": "code",
      "metadata": {
        "id": "1cnDC2Pl6F5F"
      },
      "source": [
        "from gensim.models.word2vec import Word2Vec\n",
        "# %cd /content/mount/My Drive/00_work\n",
        "model_path = 'word2vec.gensim.model'\n",
        "latest_model = Word2Vec.load(model_path)"
      ],
      "execution_count": null,
      "outputs": []
    },
    {
      "cell_type": "code",
      "metadata": {
        "id": "vkUdZ8RsTeTB",
        "outputId": "e9fc5b82-ca6e-4201-8a8a-fcb0bde98fe3",
        "colab": {
          "base_uri": "https://localhost:8080/",
          "height": 34
        }
      },
      "source": [
        "len(latest_model.wv.vocab)"
      ],
      "execution_count": null,
      "outputs": [
        {
          "output_type": "execute_result",
          "data": {
            "text/plain": [
              "335476"
            ]
          },
          "metadata": {
            "tags": []
          },
          "execution_count": 35
        }
      ]
    },
    {
      "cell_type": "code",
      "metadata": {
        "id": "MK80GYvO6IST"
      },
      "source": [
        "model.most_similar('高学年')"
      ],
      "execution_count": null,
      "outputs": []
    },
    {
      "cell_type": "markdown",
      "metadata": {
        "id": "BP9nAwb15q7Q"
      },
      "source": [
        "##東北大学 乾・岡崎研究室のモデル OK"
      ]
    },
    {
      "cell_type": "code",
      "metadata": {
        "id": "ditMpgRF6LHC"
      },
      "source": [
        "%cd /content\n",
        "!wget http://www.cl.ecei.tohoku.ac.jp/~m-suzuki/jawiki_vector/data/20170201.tar.bz2\n",
        "!tar -xvf 20170201.tar.bz2"
      ],
      "execution_count": null,
      "outputs": []
    },
    {
      "cell_type": "code",
      "metadata": {
        "id": "jaVwc7G1U1o4"
      },
      "source": [
        ""
      ],
      "execution_count": null,
      "outputs": []
    },
    {
      "cell_type": "code",
      "metadata": {
        "id": "rR5NgA1F6M-_"
      },
      "source": [
        "import gensim\n",
        "fn=\"/content/entity_vector/entity_vector.model.bin\"\n",
        "jawiki_vectors=gensim.models.KeyedVectors.load_word2vec_format(fn, binary=True)"
      ],
      "execution_count": null,
      "outputs": []
    },
    {
      "cell_type": "code",
      "metadata": {
        "id": "qtSZ9kPK6QMR"
      },
      "source": [
        "jawiki_vectors.wv.most_similar('日本')"
      ],
      "execution_count": null,
      "outputs": []
    },
    {
      "cell_type": "code",
      "metadata": {
        "id": "eAldNkK7TF6b",
        "outputId": "5c035094-c4a5-44ba-c105-135115800476",
        "colab": {
          "base_uri": "https://localhost:8080/",
          "height": 90
        }
      },
      "source": [
        "#1015474\n",
        "len(jawiki_vectors.wv.vocab)"
      ],
      "execution_count": null,
      "outputs": [
        {
          "output_type": "stream",
          "text": [
            "/usr/local/lib/python3.6/dist-packages/ipykernel_launcher.py:1: DeprecationWarning: Call to deprecated `wv` (Attribute will be removed in 4.0.0, use self instead).\n",
            "  \"\"\"Entry point for launching an IPython kernel.\n"
          ],
          "name": "stderr"
        },
        {
          "output_type": "execute_result",
          "data": {
            "text/plain": [
              "1015474"
            ]
          },
          "metadata": {
            "tags": []
          },
          "execution_count": 33
        }
      ]
    },
    {
      "cell_type": "markdown",
      "metadata": {
        "id": "pqreDVJm5wmR"
      },
      "source": [
        "##国立国語研究所 jawiki_vectors OK"
      ]
    },
    {
      "cell_type": "code",
      "metadata": {
        "id": "gxl_fQL25z-I"
      },
      "source": [
        "# 国立国語研究所 サイズ大きすぎで、使えない\n",
        "# !wget https://sudachi.s3-ap-northeast-1.amazonaws.com/chive/chive-1.2-mc5_gensim.tar.gz\n",
        "# !tar zxvf  chive-1.2-mc5_gensim.tar.gz\n",
        "# import gensim\n",
        "# chive_vectors = gensim.models.KeyedVectors.load(\"/content/chive-1.2-mc5_gensim/chive-1.2-mc5.kv\")\n",
        "# !rm chive-1.2-mc5_gensim.tar.gz"
      ],
      "execution_count": null,
      "outputs": []
    },
    {
      "cell_type": "code",
      "metadata": {
        "id": "cKespI9tCEXS"
      },
      "source": [
        "import subprocess\n",
        "import json\n",
        "import pandas as pd\n",
        "import tensorflow_hub as hub\n",
        "import numpy as np\n",
        "import readline\n",
        "from gensim.models import word2vec\n",
        "import re\n",
        "import warnings\n",
        "from sklearn import preprocessing\n",
        "import gensim"
      ],
      "execution_count": null,
      "outputs": []
    },
    {
      "cell_type": "code",
      "metadata": {
        "id": "rg6-xaif6Uck"
      },
      "source": [
        "# !wget https://sudachi.s3-ap-northeast-1.amazonaws.com/chive/chive-1.2-mc15_gensim.tar.gz\n",
        "# !tar zxvf  chive-1.2-mc15_gensim.tar.gz\n",
        "import gensim\n",
        "chive_vectors = gensim.models.KeyedVectors.load(\"/content/mount/My Drive/00_work/chive-1.2-mc15_gensim/chive-1.2-mc15.kv\")\n",
        "chive_vectors.wv.most_similar('父親')"
      ],
      "execution_count": null,
      "outputs": []
    },
    {
      "cell_type": "markdown",
      "metadata": {
        "id": "Yp3001FY50nZ"
      },
      "source": [
        "##singletongue/WikiEntVec NG"
      ]
    },
    {
      "cell_type": "code",
      "metadata": {
        "id": "Z5fIfwgW6Z64"
      },
      "source": [
        "#jawiki.all_vectors.300d.txt.bz2\n",
        "%cd /content\n",
        "!wget https://github.com/singletongue/WikiEntVec/releases/download/20190520/jawiki.all_vectors.300d.txt.bz2\n",
        "!bzip2 -d  jawiki.all_vectors.300d.txt.bz2"
      ],
      "execution_count": null,
      "outputs": []
    },
    {
      "cell_type": "code",
      "metadata": {
        "id": "z5_9h-C56dm9"
      },
      "source": [
        "!git clone https://github.com/marekrei/convertvec.git\n",
        "%cd convertvec \n",
        "!make"
      ],
      "execution_count": null,
      "outputs": []
    },
    {
      "cell_type": "markdown",
      "metadata": {
        "id": "hws180XU7ISS"
      },
      "source": [
        "## save text to binary file"
      ]
    },
    {
      "cell_type": "code",
      "metadata": {
        "id": "aFvLSfhQ6f97"
      },
      "source": [
        "# ! /content/convertvec/convertvec txt2bin 'jawiki.all_vectors.300d.txt' 'jawiki.all_vectors.300d.bin'\n",
        "import gensim\n",
        "model = gensim.models.KeyedVectors.load_word2vec_format('/content/glove_vectors_50d.bin', binary=False)\n",
        "model.save_word2vec_format('gui.glove.vectors.50d.bin', binary=True)"
      ],
      "execution_count": null,
      "outputs": []
    },
    {
      "cell_type": "code",
      "metadata": {
        "id": "Q8kYEVWI8Vhy"
      },
      "source": [
        "!cp '/content/mount/My Drive/00_work/gui_glove/glove_vectors_50d.bin' /content/glove_vectors_50d.bin"
      ],
      "execution_count": null,
      "outputs": []
    },
    {
      "cell_type": "code",
      "metadata": {
        "id": "Xc6byPNY6kaR"
      },
      "source": [
        "jawiki_vectors =  gensim.models.KeyedVectors.load_word2vec_format(\"/content/mount/My Drive/00_work/jawiki.all_vectors.300d.bin\", binary=True)"
      ],
      "execution_count": null,
      "outputs": []
    },
    {
      "cell_type": "code",
      "metadata": {
        "id": "gsLnKyXE6nQC"
      },
      "source": [
        "jawiki_vectors.wv.most_similar('父親')"
      ],
      "execution_count": null,
      "outputs": []
    },
    {
      "cell_type": "code",
      "metadata": {
        "id": "lhk8hQVx7FZn"
      },
      "source": [
        "meparse.parse('小学高学年になってから、父親は、私がお風呂に入っているのを覗きにきて、性器を見せるようにいうようになりました')"
      ],
      "execution_count": null,
      "outputs": []
    },
    {
      "cell_type": "markdown",
      "metadata": {
        "id": "Iy3btV3Lq0cB"
      },
      "source": [
        "##評価"
      ]
    },
    {
      "cell_type": "code",
      "metadata": {
        "id": "xltRByoOq2Xf"
      },
      "source": [
        "%cd /content/mount/My Drive/00_work\n",
        "!git clone https://github.com/tmu-nlp/JapaneseWordSimilarityDataset.git\n",
        "!mkdir JWSAN\n",
        "%cd JWSAN\n",
        "!wget http://www.utm.inf.uec.ac.jp/JWSAN/jwsan-2145.csv\n",
        "!wget http://www.utm.inf.uec.ac.jp/JWSAN/jwsan-1400.csv"
      ],
      "execution_count": null,
      "outputs": []
    },
    {
      "cell_type": "code",
      "metadata": {
        "id": "JPxGhhCnBPll"
      },
      "source": [
        "%cd /content/mount/My Drive/00_work/\n",
        "!git clone https://github.com/shihono/evaluate_japanese_w2v.git"
      ],
      "execution_count": null,
      "outputs": []
    },
    {
      "cell_type": "code",
      "metadata": {
        "id": "Y3Ag96zjvsUY"
      },
      "source": [
        "%cd /content\n",
        "!wget https://dl.fbaipublicfiles.com/fasttext/vectors-crawl/cc.ja.300.vec.gz\n",
        "!gunzip cc.ja.300.vec.gz"
      ],
      "execution_count": null,
      "outputs": []
    },
    {
      "cell_type": "code",
      "metadata": {
        "id": "JGRcxzFp0LXs",
        "outputId": "0b6a18ae-996b-432f-f562-2e45271eb70f",
        "colab": {
          "base_uri": "https://localhost:8080/",
          "height": 72
        }
      },
      "source": [
        "embedding_dict = gensim.models.KeyedVectors.load_word2vec_format(\"/content/mount/My Drive/00_work/gui_glove/glove_vectors_50d.model\", binary=False) \n",
        "embedding_dict.save_word2vec_format('/content/mount/My Drive/00_work/gui_glove/gui.glove_vectors_50d.model'+\".bin\", binary=True)\n",
        "# model = gensim.models.KeyedVectors.load_word2vec_format('/content/cc.ja.300.vec'+\".bin\", binary=True)\n"
      ],
      "execution_count": null,
      "outputs": [
        {
          "output_type": "stream",
          "text": [
            "/usr/local/lib/python3.6/dist-packages/smart_open/smart_open_lib.py:252: UserWarning: This function is deprecated, use smart_open.open instead. See the migration notes for details: https://github.com/RaRe-Technologies/smart_open/blob/master/README.rst#migrating-to-the-new-open-function\n",
            "  'See the migration notes for details: %s' % _MIGRATION_NOTES_URL\n"
          ],
          "name": "stderr"
        }
      ]
    },
    {
      "cell_type": "code",
      "metadata": {
        "id": "TngaqX71rjdQ"
      },
      "source": [
        "# import gensim\n",
        "import sys\n",
        "# reload(sys)\n",
        "# sys.setdefaultencoding(\"ISO-8859-1\")\n",
        "from  datetime import datetime as dt\n",
        "filelst=[\n",
        "         ['/content/mount/My\\ Drive/00_work/JapaneseWordSimilarityDataset/score_adj.csv',0,1,13],\n",
        "         ['/content/mount/My\\ Drive/00_work/JapaneseWordSimilarityDataset/score_adv.csv',0,1,13],\n",
        "         ['/content/mount/My\\ Drive/00_work/JapaneseWordSimilarityDataset/score_noun.csv',0,1,13],\n",
        "         ['/content/mount/My\\ Drive/00_work/JapaneseWordSimilarityDataset/score_verb.csv',0,1,13],\n",
        "         ['/content/mount/My\\ Drive/00_work/JWSAN/jwsan-1400.csv',1,2,4],\n",
        "         ['/content/mount/My\\ Drive/00_work/JWSAN/jwsan-2145.csv',1,2,4]\n",
        "]\n",
        "modLst=[\n",
        "      # '/content/mount/My\\ Drive/00_work/latest-ja-word2vec-gensim-model/word2vec.gensim.model' ,\n",
        "      # '/content/mount/My\\ Drive/00_work/entity_vector/entity_vector.model.bin' ,\n",
        "      # '/content/mount/My\\ Drive/00_work/chive-1.2-mc15_gensim/chive-1.2-mc15.kv' ,\n",
        "      # '/content/mount/My\\ Drive/00_work/chive-1.2-mc5_gensim/chive-1.2-mc5.kv' ,\n",
        "      # '/content/mount/My\\ Drive/00_work/word2vec/word2vec.gensim.model' ,\n",
        "      # '/content/mount/My\\ Drive/00_work/w2vmodel/ja-gensim.50d.data.model' ,\n",
        "      #   '/content/mount/My\\ Drive/00_work/jawiki.all_vectors.300d.bin' ,\n",
        "      # '/content/mount/My\\ Drive/00_work/fastText_w2v/model.vec' ,\n",
        "      # '/content/mount/My\\ Drive/00_work/facebook_fastText/cc.ja.300.vec.bin' ,\n",
        "      '/content/mount/My\\ Drive/00_work/gui_glove/gui.glove_vectors_50d.model.bin',\n",
        "\n",
        "]\n",
        "%cd /content/mount/My Drive/00_work/evaluate_japanese_w2v\n",
        "for mod in modLst:\n",
        "  print(\"***********\",dt.utcnow().strftime( '%y/%m/%d %H:%M:%S'),{mod})\n",
        "  for fn,w1,w2,sim in filelst:\n",
        "    !python eval.py {mod} \\\n",
        "        {fn} \\\n",
        "        -v --col {w1} {w2} {sim} -m --mecab_dict {path}\n",
        "        # -v --col {w1} {w2} {sim} -m --sudachi\n",
        "  print(\"***********\",dt.utcnow().strftime( '%y/%m/%d %H:%M:%S'),{mod})\n",
        "#/content/mount/My Drive/00_work/jawiki.all_vectors.300d.bin"
      ],
      "execution_count": null,
      "outputs": []
    },
    {
      "cell_type": "code",
      "metadata": {
        "id": "ligOaxgZyWmv",
        "outputId": "ddbad1fc-ffd4-4200-cebc-42e4db4176bf",
        "colab": {
          "base_uri": "https://localhost:8080/",
          "height": 90
        }
      },
      "source": [
        "import gensim\n",
        "gensim.models.KeyedVectors.load_word2vec_format('/content/mount/My Drive/00_work/gui_glove/gui.glove_vectors_50d.model.bin', binary=True,encoding='latin1', unicode_errors='ignore')\n",
        "# gensim.models.KeyedVectors.load('/content/mount/My Drive/00_work/gui_glove/glove_vectors_50d.txt')\n",
        "# embedding_dict = gensim.models.KeyedVectors.load_word2vec_format('/content/cc.ja.300.bin', binary=False)"
      ],
      "execution_count": null,
      "outputs": [
        {
          "output_type": "stream",
          "text": [
            "/usr/local/lib/python3.6/dist-packages/smart_open/smart_open_lib.py:252: UserWarning: This function is deprecated, use smart_open.open instead. See the migration notes for details: https://github.com/RaRe-Technologies/smart_open/blob/master/README.rst#migrating-to-the-new-open-function\n",
            "  'See the migration notes for details: %s' % _MIGRATION_NOTES_URL\n"
          ],
          "name": "stderr"
        },
        {
          "output_type": "execute_result",
          "data": {
            "text/plain": [
              "<gensim.models.keyedvectors.Word2VecKeyedVectors at 0x7f4546d400f0>"
            ]
          },
          "metadata": {
            "tags": []
          },
          "execution_count": 16
        }
      ]
    },
    {
      "cell_type": "code",
      "metadata": {
        "id": "I95BNgK3ByiX"
      },
      "source": [
        "import pandas as pd\n",
        "import numpy as np\n",
        "from gensim.models import KeyedVectors\n",
        "dtpath='/content/mount/My Drive/00_work/gui_glove'\n",
        "# 単語ラベルをインデックスにしてDataFrameで読み込む\n",
        "vectors = pd.read_csv(dtpath+'/glove_vectors_50d.txt', delimiter=' ', index_col=0, header=None)\n",
        "\n",
        "with open(dtpath+'/glove_vectors_50d.txt', 'r') as original, open(dtpath+'/glove_vectors_50d.model', 'w') as transformed:\n",
        "    vocab_count = vectors.shape[0]  # 単語数\n",
        "    size = vectors.shape[1]  # 次元数\n",
        "\n",
        "    transformed.write(f'{vocab_count} {size}\\n')\n",
        "    transformed.write(original.read())"
      ],
      "execution_count": null,
      "outputs": []
    },
    {
      "cell_type": "markdown",
      "metadata": {
        "id": "gIbL_V2g-1j-"
      },
      "source": [
        "#モデル訓練データを作成"
      ]
    },
    {
      "cell_type": "code",
      "metadata": {
        "id": "r0zSuEdX8pfw"
      },
      "source": [
        "!wget https://dumps.wikimedia.org/jawiki/latest/jawiki-latest-pages-meta-current.xml.bz2"
      ],
      "execution_count": null,
      "outputs": []
    },
    {
      "cell_type": "code",
      "metadata": {
        "id": "sNMAfG7f_Wbp"
      },
      "source": [
        "!git clone https://github.com/attardi/wikiextractor.git\n",
        "!pip install wikiextractor"
      ],
      "execution_count": null,
      "outputs": []
    },
    {
      "cell_type": "code",
      "metadata": {
        "id": "YOKgkOWA_bhi"
      },
      "source": [
        "!python -m wikiextractor.WikiExtractor  '/content/jawiki-latest-pages-meta-current.xml.bz2'  -b 500K -o /content/extracted"
      ],
      "execution_count": null,
      "outputs": []
    },
    {
      "cell_type": "code",
      "metadata": {
        "id": "uZe-o-9Ve13J"
      },
      "source": [
        "%cd /content/all_dt\n",
        "!zip -r wikki_pages_meda.zip wikki_pages_meda\n"
      ],
      "execution_count": null,
      "outputs": []
    },
    {
      "cell_type": "code",
      "metadata": {
        "id": "8pBsP4ScgKGd"
      },
      "source": [
        "!cp '/content/all_dt/wikki_pages_meda.zip' '/content/mount/My Drive/00_work/01_glove/02_wiki_t/wikki_pages_meda.zip'"
      ],
      "execution_count": null,
      "outputs": []
    },
    {
      "cell_type": "markdown",
      "metadata": {
        "id": "ChFxzWYsdrbb"
      },
      "source": [
        "## create wikki data"
      ]
    },
    {
      "cell_type": "code",
      "metadata": {
        "id": "ETkM_eUy6S7S"
      },
      "source": [
        "txtpath='/content/extracted/'\n",
        "dtpath='/content/all_dt/wikki_pages_meda/'\n",
        "from glob import glob\n",
        "import os\n",
        "# livedoorニュースコーパスを全て分かち書きして１つのファイルに書き込む\n",
        "# カテゴリを配列で取得\n",
        "categories = [name for name in os.listdir(txtpath) if os.path.isdir(txtpath +name)]\n",
        "cnt=len(categories)\n",
        "for i, cat in enumerate(categories):\n",
        "  print(cat,i,cnt)\n",
        "  with open(dtpath+'/jawiki_pages_meta%06d.txt'%(i), \"w\", encoding=\"utf-8\") as w:\n",
        "    path = txtpath + cat + \"/*\"\n",
        "    files = glob(path)\n",
        "\n",
        "    for fn in files:\n",
        "      with open(fn, \"r\", encoding=\"utf-8\") as f:\n",
        "        data = f.read()\n",
        "        w.write(data + '\\n')\n",
        "      f.close()\n",
        "    w.close()"
      ],
      "execution_count": null,
      "outputs": []
    },
    {
      "cell_type": "markdown",
      "metadata": {
        "id": "2mQ-vWGpWNlp"
      },
      "source": [
        "#モデル訓練実施"
      ]
    },
    {
      "cell_type": "markdown",
      "metadata": {
        "id": "BNHc715td0IN"
      },
      "source": [
        "## create corpus"
      ]
    },
    {
      "cell_type": "code",
      "metadata": {
        "id": "rHhrGd5GW1b8"
      },
      "source": [
        "import re, MeCab\n",
        "from glob import glob\n",
        "# 分かち書きはMeCabで適当に\n",
        "# tagger = MeCab.Tagger(\"-Owakati\")\n",
        "cmd='echo `mecab-config --dicdir`\"/mecab-ipadic-neologd\"'\n",
        "path = (subprocess.Popen(cmd, stdout=subprocess.PIPE,shell=True).communicate()[0]).decode('utf-8')\n",
        "tagger = MeCab.Tagger(\"-Owakati -d {0}\".format(path)) \n",
        "def make_wakati(sentence):\n",
        "    # MeCabで分かち書き\n",
        "    sentence = tagger.parse(sentence)\n",
        "    # 半角全角英数字除去\n",
        "    sentence = re.sub(r'[0-9０-９a-zA-Zａ-ｚＡ-Ｚ]+', \" \", sentence)\n",
        "    # 記号もろもろ除去\n",
        "    sentence = re.sub(r'[\\．_－―─！＠＃＄％＾＆\\-‐|\\\\＊\\“（）＿■×+α※÷⇒—●★☆〇◎◆▼◇△□(：〜～＋=)／*&^%$#@!~`){}［］…\\[\\]\\\"\\'\\”\\’:;<>?＜＞〔〕〈〉？、。・,\\./『』【】「」→←○《》≪≫\\n\\u3000]+', \"\", sentence)\n",
        "    # スペースで区切って形態素の配列へ\n",
        "    wakati = sentence.split(\" \")\n",
        "    # 空の要素は削除\n",
        "    wakati = list(filter((\"\").__ne__, wakati))\n",
        "    return wakati"
      ],
      "execution_count": null,
      "outputs": []
    },
    {
      "cell_type": "code",
      "metadata": {
        "id": "CVEVdhSEWBhh"
      },
      "source": [
        "import os\n",
        "txtpath='/content/all_dt/'\n",
        "dtpath='/content/mount/My Drive/00_work/01_glove/INES_guidance/'\n",
        "# livedoorニュースコーパスを全て分かち書きして１つのファイルに書き込む\n",
        "# カテゴリを配列で取得\n",
        "categories = [name for name in os.listdir(txtpath) if os.path.isdir(txtpath +name)]\n",
        "cnt=len(categories)\n",
        "with open(dtpath+'/gui_corpus.txt', \"w\", encoding=\"utf-8\") as w:\n",
        "    for i, cat in enumerate(categories):\n",
        "        path = txtpath + cat + \"/*\"\n",
        "        files = glob(path)\n",
        "        for fn in files:\n",
        "            print(cat,i,cnt,fn)\n",
        "            with open(fn, \"r\", encoding=\"utf-8\") as f:\n",
        "                data = f.read()\n",
        "                datalst=data.split('\\n')\n",
        "                for dti in  datalst:\n",
        "                  if len(dti.strip()) <5:\n",
        "                         continue\n",
        "                  wakati = make_wakati(dti)\n",
        "                  str_dt=' '.join(wakati) + '\\n'\n",
        "                  w.write(str_dt)\n",
        "w.close()"
      ],
      "execution_count": null,
      "outputs": []
    },
    {
      "cell_type": "code",
      "metadata": {
        "id": "UWDwyMlS7jlt"
      },
      "source": [
        ""
      ],
      "execution_count": null,
      "outputs": []
    },
    {
      "cell_type": "markdown",
      "metadata": {
        "id": "7fRuKjKYd6Pr"
      },
      "source": [
        "## create vocabulary"
      ]
    },
    {
      "cell_type": "code",
      "metadata": {
        "id": "cgK_O_vyd5pY"
      },
      "source": [
        "%cd /content/mount/My Drive/00_work/01_glove \n",
        "!chmod 777 ./build/vocab_count\n",
        "! ./build/vocab_count \\\n",
        "  -min-count 1 \\\n",
        "  -verbose 2 < {dtpath}/wiki_corpus.txt > {dtpath}/gui_vocab.txt\n"
      ],
      "execution_count": null,
      "outputs": []
    },
    {
      "cell_type": "code",
      "metadata": {
        "id": "zOnxU9UweWEs"
      },
      "source": [
        "!chmod 777 ./build/cooccur\n",
        "! ./build/cooccur \\\n",
        "   -memory 12 \\\n",
        "   -vocab-file {dtpath}/gui_vocab.txt \\\n",
        "   -verbose 2 -window-size 15 < {dtpath}/wiki_corpus.txt  > {dttmp}/cooccurrence.txt"
      ],
      "execution_count": null,
      "outputs": []
    },
    {
      "cell_type": "code",
      "metadata": {
        "id": "zsjoY1I6jNZT"
      },
      "source": [
        "!chmod 777 ./build/shuffle\n",
        "! ./build/shuffle \\\n",
        "  -memory 12 \\\n",
        "  -verbose 2 \\\n",
        "  < {dttmp}/cooccurrence.txt \\\n",
        "  > {dttmp}/cooccurrence_shuffle"
      ],
      "execution_count": null,
      "outputs": []
    },
    {
      "cell_type": "code",
      "metadata": {
        "id": "NkFFNwS2jZ-2"
      },
      "source": [
        "%cd  '/content/mount/My Drive/00_work/01_glove/'\n",
        "!chmod 777 ./build/glove\n",
        "! ./build/glove \\\n",
        "   -save-file {dtpath}/glove_vectors_300d \\\n",
        "   -threads 50 \\\n",
        "   -input-file {dttmp}/cooccurrence_shuffle \\\n",
        "   -x-max 15 \\\n",
        "   -iter 30 \\\n",
        "   -vector-size 300 \\\n",
        "   -binary 2 \\\n",
        "   -vocab-file {dtpath}/gui_vocab.txt \\\n",
        "   -verbose 2"
      ],
      "execution_count": null,
      "outputs": []
    }
  ]
}